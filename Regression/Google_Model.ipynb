{
 "cells": [
  {
   "cell_type": "code",
   "execution_count": 228,
   "id": "4b76b7f9-1f50-4f73-9a1d-de54084383d3",
   "metadata": {
    "tags": []
   },
   "outputs": [
    {
     "name": "stdout",
     "output_type": "stream",
     "text": [
      "              Open    High     Low    Close      Volume  Ex-Dividend  \\\n",
      "Date                                                                   \n",
      "2004-08-19  100.01  104.06   95.96  100.335  44659000.0          0.0   \n",
      "2004-08-20  101.01  109.08  100.50  108.310  22834300.0          0.0   \n",
      "2004-08-23  110.76  113.48  109.05  109.400  18256100.0          0.0   \n",
      "2004-08-24  111.24  111.60  103.57  104.870  15247300.0          0.0   \n",
      "2004-08-25  104.76  108.00  103.88  106.000   9188600.0          0.0   \n",
      "\n",
      "            Split Ratio  Adj. Open  Adj. High   Adj. Low  Adj. Close  \\\n",
      "Date                                                                   \n",
      "2004-08-19          1.0  50.159839  52.191109  48.128568   50.322842   \n",
      "2004-08-20          1.0  50.661387  54.708881  50.405597   54.322689   \n",
      "2004-08-23          1.0  55.551482  56.915693  54.693835   54.869377   \n",
      "2004-08-24          1.0  55.792225  55.972783  51.945350   52.597363   \n",
      "2004-08-25          1.0  52.542193  54.167209  52.100830   53.164113   \n",
      "\n",
      "            Adj. Volume  \n",
      "Date                     \n",
      "2004-08-19   44659000.0  \n",
      "2004-08-20   22834300.0  \n",
      "2004-08-23   18256100.0  \n",
      "2004-08-24   15247300.0  \n",
      "2004-08-25    9188600.0  \n"
     ]
    }
   ],
   "source": [
    "import pandas as pd\n",
    "import quandl, math, datetime\n",
    "import numpy as np\n",
    "from sklearn import preprocessing, svm \n",
    "from sklearn.linear_model import LinearRegression\n",
    "from sklearn.model_selection import cross_val_score, train_test_split\n",
    "import matplotlib.pyplot as plt\n",
    "from matplotlib import style\n",
    "import pickle\n",
    "\n",
    "style.use('ggplot')\n",
    "\n",
    "df = quandl.get('WIKI/GOOGL')\n",
    "\n",
    "print(df.head())"
   ]
  },
  {
   "cell_type": "code",
   "execution_count": 229,
   "id": "fbd41366-5b12-431f-aeeb-63d75c75c0f6",
   "metadata": {
    "tags": []
   },
   "outputs": [],
   "source": [
    "df = df[['Adj. Open', 'Adj. High', 'Adj. Low', 'Adj. Close', 'Adj. Volume']]\n",
    "df_copy = df.copy()\n",
    "df_copy['HL_PCT'] = (df_copy['Adj. High'] - df_copy['Adj. Close']) / df_copy['Adj. Close'] * 100.0\n",
    "df_copy['PCT_change'] = (df_copy['Adj. Close'] - df_copy['Adj. Open']) / df_copy['Adj. Open'] * 100.0\n",
    "df_copy = df_copy[['Adj. Close', 'HL_PCT', 'PCT_change', 'Adj. Volume']]\n",
    "forecast_col = 'Adj. Close' "
   ]
  },
  {
   "cell_type": "code",
   "execution_count": 230,
   "id": "fe7499bb-f475-4d0d-9d5a-9c25e5a5c796",
   "metadata": {
    "tags": []
   },
   "outputs": [
    {
     "name": "stdout",
     "output_type": "stream",
     "text": [
      "            Adj. Open  Adj. High  Adj. Low  Adj. Close  Adj. Volume\n",
      "Date                                                               \n",
      "2018-03-21    1092.57    1108.70   1087.21     1094.00    1990515.0\n",
      "2018-03-22    1080.01    1083.92   1049.64     1053.15    3418154.0\n",
      "2018-03-23    1051.37    1066.78   1024.87     1026.55    2413517.0\n",
      "2018-03-26    1050.60    1059.27   1010.58     1054.09    3272409.0\n",
      "2018-03-27    1063.90    1064.54    997.62     1006.94    2940957.0\n"
     ]
    }
   ],
   "source": [
    "print(df.tail())"
   ]
  },
  {
   "cell_type": "code",
   "execution_count": 231,
   "id": "c1a18d58-c3c3-41ea-a80f-e8d81d148092",
   "metadata": {
    "tags": []
   },
   "outputs": [
    {
     "data": {
      "text/html": [
       "<div>\n",
       "<style scoped>\n",
       "    .dataframe tbody tr th:only-of-type {\n",
       "        vertical-align: middle;\n",
       "    }\n",
       "\n",
       "    .dataframe tbody tr th {\n",
       "        vertical-align: top;\n",
       "    }\n",
       "\n",
       "    .dataframe thead th {\n",
       "        text-align: right;\n",
       "    }\n",
       "</style>\n",
       "<table border=\"1\" class=\"dataframe\">\n",
       "  <thead>\n",
       "    <tr style=\"text-align: right;\">\n",
       "      <th></th>\n",
       "      <th>Adj. Close</th>\n",
       "      <th>HL_PCT</th>\n",
       "      <th>PCT_change</th>\n",
       "      <th>Adj. Volume</th>\n",
       "      <th>label</th>\n",
       "    </tr>\n",
       "    <tr>\n",
       "      <th>Date</th>\n",
       "      <th></th>\n",
       "      <th></th>\n",
       "      <th></th>\n",
       "      <th></th>\n",
       "      <th></th>\n",
       "    </tr>\n",
       "  </thead>\n",
       "  <tbody>\n",
       "    <tr>\n",
       "      <th>2004-08-19</th>\n",
       "      <td>50.322842</td>\n",
       "      <td>3.712563</td>\n",
       "      <td>0.324968</td>\n",
       "      <td>44659000.0</td>\n",
       "      <td>69.078238</td>\n",
       "    </tr>\n",
       "    <tr>\n",
       "      <th>2004-08-20</th>\n",
       "      <td>54.322689</td>\n",
       "      <td>0.710922</td>\n",
       "      <td>7.227007</td>\n",
       "      <td>22834300.0</td>\n",
       "      <td>67.839414</td>\n",
       "    </tr>\n",
       "    <tr>\n",
       "      <th>2004-08-23</th>\n",
       "      <td>54.869377</td>\n",
       "      <td>3.729433</td>\n",
       "      <td>-1.227880</td>\n",
       "      <td>18256100.0</td>\n",
       "      <td>68.912727</td>\n",
       "    </tr>\n",
       "    <tr>\n",
       "      <th>2004-08-24</th>\n",
       "      <td>52.597363</td>\n",
       "      <td>6.417469</td>\n",
       "      <td>-5.726357</td>\n",
       "      <td>15247300.0</td>\n",
       "      <td>70.668146</td>\n",
       "    </tr>\n",
       "    <tr>\n",
       "      <th>2004-08-25</th>\n",
       "      <td>53.164113</td>\n",
       "      <td>1.886792</td>\n",
       "      <td>1.183658</td>\n",
       "      <td>9188600.0</td>\n",
       "      <td>71.219849</td>\n",
       "    </tr>\n",
       "    <tr>\n",
       "      <th>...</th>\n",
       "      <td>...</td>\n",
       "      <td>...</td>\n",
       "      <td>...</td>\n",
       "      <td>...</td>\n",
       "      <td>...</td>\n",
       "    </tr>\n",
       "    <tr>\n",
       "      <th>2018-03-21</th>\n",
       "      <td>1094.000000</td>\n",
       "      <td>1.343693</td>\n",
       "      <td>0.130884</td>\n",
       "      <td>1990515.0</td>\n",
       "      <td>NaN</td>\n",
       "    </tr>\n",
       "    <tr>\n",
       "      <th>2018-03-22</th>\n",
       "      <td>1053.150000</td>\n",
       "      <td>2.921711</td>\n",
       "      <td>-2.487014</td>\n",
       "      <td>3418154.0</td>\n",
       "      <td>NaN</td>\n",
       "    </tr>\n",
       "    <tr>\n",
       "      <th>2018-03-23</th>\n",
       "      <td>1026.550000</td>\n",
       "      <td>3.918952</td>\n",
       "      <td>-2.360729</td>\n",
       "      <td>2413517.0</td>\n",
       "      <td>NaN</td>\n",
       "    </tr>\n",
       "    <tr>\n",
       "      <th>2018-03-26</th>\n",
       "      <td>1054.090000</td>\n",
       "      <td>0.491419</td>\n",
       "      <td>0.332191</td>\n",
       "      <td>3272409.0</td>\n",
       "      <td>NaN</td>\n",
       "    </tr>\n",
       "    <tr>\n",
       "      <th>2018-03-27</th>\n",
       "      <td>1006.940000</td>\n",
       "      <td>5.720301</td>\n",
       "      <td>-5.353887</td>\n",
       "      <td>2940957.0</td>\n",
       "      <td>NaN</td>\n",
       "    </tr>\n",
       "  </tbody>\n",
       "</table>\n",
       "<p>3424 rows × 5 columns</p>\n",
       "</div>"
      ],
      "text/plain": [
       "             Adj. Close    HL_PCT  PCT_change  Adj. Volume      label\n",
       "Date                                                                 \n",
       "2004-08-19    50.322842  3.712563    0.324968   44659000.0  69.078238\n",
       "2004-08-20    54.322689  0.710922    7.227007   22834300.0  67.839414\n",
       "2004-08-23    54.869377  3.729433   -1.227880   18256100.0  68.912727\n",
       "2004-08-24    52.597363  6.417469   -5.726357   15247300.0  70.668146\n",
       "2004-08-25    53.164113  1.886792    1.183658    9188600.0  71.219849\n",
       "...                 ...       ...         ...          ...        ...\n",
       "2018-03-21  1094.000000  1.343693    0.130884    1990515.0        NaN\n",
       "2018-03-22  1053.150000  2.921711   -2.487014    3418154.0        NaN\n",
       "2018-03-23  1026.550000  3.918952   -2.360729    2413517.0        NaN\n",
       "2018-03-26  1054.090000  0.491419    0.332191    3272409.0        NaN\n",
       "2018-03-27  1006.940000  5.720301   -5.353887    2940957.0        NaN\n",
       "\n",
       "[3424 rows x 5 columns]"
      ]
     },
     "execution_count": 231,
     "metadata": {},
     "output_type": "execute_result"
    }
   ],
   "source": [
    "df_copy.fillna(-88888, inplace=True)\n",
    "forecast_out = int(math.ceil(0.01*len(df)))\n",
    "df_copy['label'] = df[forecast_col].shift(-forecast_out)\n",
    "df_copy"
   ]
  },
  {
   "cell_type": "code",
   "execution_count": 232,
   "id": "5518ca83-7a5f-4a61-8819-d76c9c4c7acb",
   "metadata": {
    "tags": []
   },
   "outputs": [],
   "source": [
    "X = np.array(df_copy.drop(['label'], axis=1))\n",
    "X = preprocessing.scale(X)\n",
    "X_lately = X[-forecast_out:]\n",
    "X = X[:-forecast_out]\n",
    "\n",
    "\n",
    "y = np.array(df_copy['label'])\n",
    "             \n",
    "\n",
    "df_copy.dropna(inplace=True)\n",
    "y = np.array(df_copy['label'])\n"
   ]
  },
  {
   "cell_type": "code",
   "execution_count": 233,
   "id": "f3b95cce-9019-46bf-981c-73c73eb09ae1",
   "metadata": {
    "tags": []
   },
   "outputs": [
    {
     "name": "stdout",
     "output_type": "stream",
     "text": [
      "0.9780455897649111\n"
     ]
    }
   ],
   "source": [
    "X_train, X_test, y_train, y_test = train_test_split(X, y, test_size=0.2)\n",
    "\n",
    "clf = LinearRegression()\n",
    "clf.fit(X_train, y_train)\n",
    "\n",
    "with open('linearregression.pickle', 'wb') as f: \n",
    "    pickle.dump(clf, f)\n",
    "    \n",
    "pickle_in = open('linearregression.pickle', 'rb')\n",
    "clf = pickle.load(pickle_in)\n",
    "\n",
    "accuracy = clf.score(X_test, y_test)\n",
    "print(accuracy)"
   ]
  },
  {
   "cell_type": "code",
   "execution_count": 234,
   "id": "25f3246a-6569-4d79-895c-ad256394ce1c",
   "metadata": {
    "tags": []
   },
   "outputs": [],
   "source": [
    "forecast_set = clf.predict(X_lately)"
   ]
  },
  {
   "cell_type": "code",
   "execution_count": 235,
   "id": "a2972b6c-7f20-41cb-95c3-30e0dadd3947",
   "metadata": {
    "tags": []
   },
   "outputs": [
    {
     "name": "stdout",
     "output_type": "stream",
     "text": [
      "[1104.35573669 1073.97214935 1021.24028364 1062.50168757 1074.38713669\n",
      " 1074.72220296 1093.51043817 1112.55734185 1115.94391412 1124.1906668\n",
      " 1133.6213106  1130.63214011 1150.03492006 1165.71432943 1137.32886735\n",
      " 1123.60278122 1089.45942152 1104.8077785  1115.78348992 1122.38471977\n",
      " 1136.5931047  1151.11556622 1182.74082714 1187.15145891 1159.18241444\n",
      " 1170.04312534 1171.89149538 1154.49516644 1119.78176852 1116.22371467\n",
      " 1114.27878396 1071.33184963 1044.00906342 1074.13608094 1022.73603663] 0.9780455897649111 35\n"
     ]
    }
   ],
   "source": [
    "print(forecast_set, accuracy, forecast_out)"
   ]
  },
  {
   "cell_type": "code",
   "execution_count": 236,
   "id": "a180517c-5e30-4533-ac7c-a14c2f1d0cdf",
   "metadata": {
    "tags": []
   },
   "outputs": [],
   "source": [
    "df_copy['Forecast'] = np.nan"
   ]
  },
  {
   "cell_type": "code",
   "execution_count": 237,
   "id": "c75103b6-e063-4c4e-bfdc-e49d8d46e3b3",
   "metadata": {
    "tags": []
   },
   "outputs": [],
   "source": [
    "last_date = df_copy.iloc[-1].name\n",
    "last_unix = last_date.timestamp()\n",
    "one_day = 86400\n",
    "next_unix = last_unix + one_day\n"
   ]
  },
  {
   "cell_type": "code",
   "execution_count": 238,
   "id": "1518cc1a-5546-4890-bd02-3f594c889e88",
   "metadata": {
    "tags": []
   },
   "outputs": [],
   "source": [
    "for i in forecast_set:\n",
    "    next_date = datetime.datetime.fromtimestamp(next_unix)\n",
    "    next_unix += one_day\n",
    "    df_copy.loc[next_date] = [np.nan for _ in range(len(df_copy.columns)-1)] + [i]"
   ]
  },
  {
   "cell_type": "code",
   "execution_count": 239,
   "id": "8937959b-3a96-4c1d-8d7e-81544845b85e",
   "metadata": {
    "tags": []
   },
   "outputs": [
    {
     "data": {
      "text/html": [
       "<div>\n",
       "<style scoped>\n",
       "    .dataframe tbody tr th:only-of-type {\n",
       "        vertical-align: middle;\n",
       "    }\n",
       "\n",
       "    .dataframe tbody tr th {\n",
       "        vertical-align: top;\n",
       "    }\n",
       "\n",
       "    .dataframe thead th {\n",
       "        text-align: right;\n",
       "    }\n",
       "</style>\n",
       "<table border=\"1\" class=\"dataframe\">\n",
       "  <thead>\n",
       "    <tr style=\"text-align: right;\">\n",
       "      <th></th>\n",
       "      <th>Adj. Close</th>\n",
       "      <th>HL_PCT</th>\n",
       "      <th>PCT_change</th>\n",
       "      <th>Adj. Volume</th>\n",
       "      <th>label</th>\n",
       "      <th>Forecast</th>\n",
       "    </tr>\n",
       "    <tr>\n",
       "      <th>Date</th>\n",
       "      <th></th>\n",
       "      <th></th>\n",
       "      <th></th>\n",
       "      <th></th>\n",
       "      <th></th>\n",
       "      <th></th>\n",
       "    </tr>\n",
       "  </thead>\n",
       "  <tbody>\n",
       "    <tr>\n",
       "      <th>2004-08-19 00:00:00</th>\n",
       "      <td>50.322842</td>\n",
       "      <td>3.712563</td>\n",
       "      <td>0.324968</td>\n",
       "      <td>44659000.0</td>\n",
       "      <td>69.078238</td>\n",
       "      <td>NaN</td>\n",
       "    </tr>\n",
       "    <tr>\n",
       "      <th>2004-08-20 00:00:00</th>\n",
       "      <td>54.322689</td>\n",
       "      <td>0.710922</td>\n",
       "      <td>7.227007</td>\n",
       "      <td>22834300.0</td>\n",
       "      <td>67.839414</td>\n",
       "      <td>NaN</td>\n",
       "    </tr>\n",
       "    <tr>\n",
       "      <th>2004-08-23 00:00:00</th>\n",
       "      <td>54.869377</td>\n",
       "      <td>3.729433</td>\n",
       "      <td>-1.227880</td>\n",
       "      <td>18256100.0</td>\n",
       "      <td>68.912727</td>\n",
       "      <td>NaN</td>\n",
       "    </tr>\n",
       "    <tr>\n",
       "      <th>2004-08-24 00:00:00</th>\n",
       "      <td>52.597363</td>\n",
       "      <td>6.417469</td>\n",
       "      <td>-5.726357</td>\n",
       "      <td>15247300.0</td>\n",
       "      <td>70.668146</td>\n",
       "      <td>NaN</td>\n",
       "    </tr>\n",
       "    <tr>\n",
       "      <th>2004-08-25 00:00:00</th>\n",
       "      <td>53.164113</td>\n",
       "      <td>1.886792</td>\n",
       "      <td>1.183658</td>\n",
       "      <td>9188600.0</td>\n",
       "      <td>71.219849</td>\n",
       "      <td>NaN</td>\n",
       "    </tr>\n",
       "    <tr>\n",
       "      <th>...</th>\n",
       "      <td>...</td>\n",
       "      <td>...</td>\n",
       "      <td>...</td>\n",
       "      <td>...</td>\n",
       "      <td>...</td>\n",
       "      <td>...</td>\n",
       "    </tr>\n",
       "    <tr>\n",
       "      <th>2018-03-07 19:00:00</th>\n",
       "      <td>NaN</td>\n",
       "      <td>NaN</td>\n",
       "      <td>NaN</td>\n",
       "      <td>NaN</td>\n",
       "      <td>NaN</td>\n",
       "      <td>1114.278784</td>\n",
       "    </tr>\n",
       "    <tr>\n",
       "      <th>2018-03-08 19:00:00</th>\n",
       "      <td>NaN</td>\n",
       "      <td>NaN</td>\n",
       "      <td>NaN</td>\n",
       "      <td>NaN</td>\n",
       "      <td>NaN</td>\n",
       "      <td>1071.331850</td>\n",
       "    </tr>\n",
       "    <tr>\n",
       "      <th>2018-03-09 19:00:00</th>\n",
       "      <td>NaN</td>\n",
       "      <td>NaN</td>\n",
       "      <td>NaN</td>\n",
       "      <td>NaN</td>\n",
       "      <td>NaN</td>\n",
       "      <td>1044.009063</td>\n",
       "    </tr>\n",
       "    <tr>\n",
       "      <th>2018-03-10 19:00:00</th>\n",
       "      <td>NaN</td>\n",
       "      <td>NaN</td>\n",
       "      <td>NaN</td>\n",
       "      <td>NaN</td>\n",
       "      <td>NaN</td>\n",
       "      <td>1074.136081</td>\n",
       "    </tr>\n",
       "    <tr>\n",
       "      <th>2018-03-11 20:00:00</th>\n",
       "      <td>NaN</td>\n",
       "      <td>NaN</td>\n",
       "      <td>NaN</td>\n",
       "      <td>NaN</td>\n",
       "      <td>NaN</td>\n",
       "      <td>1022.736037</td>\n",
       "    </tr>\n",
       "  </tbody>\n",
       "</table>\n",
       "<p>3424 rows × 6 columns</p>\n",
       "</div>"
      ],
      "text/plain": [
       "                     Adj. Close    HL_PCT  PCT_change  Adj. Volume      label  \\\n",
       "Date                                                                            \n",
       "2004-08-19 00:00:00   50.322842  3.712563    0.324968   44659000.0  69.078238   \n",
       "2004-08-20 00:00:00   54.322689  0.710922    7.227007   22834300.0  67.839414   \n",
       "2004-08-23 00:00:00   54.869377  3.729433   -1.227880   18256100.0  68.912727   \n",
       "2004-08-24 00:00:00   52.597363  6.417469   -5.726357   15247300.0  70.668146   \n",
       "2004-08-25 00:00:00   53.164113  1.886792    1.183658    9188600.0  71.219849   \n",
       "...                         ...       ...         ...          ...        ...   \n",
       "2018-03-07 19:00:00         NaN       NaN         NaN          NaN        NaN   \n",
       "2018-03-08 19:00:00         NaN       NaN         NaN          NaN        NaN   \n",
       "2018-03-09 19:00:00         NaN       NaN         NaN          NaN        NaN   \n",
       "2018-03-10 19:00:00         NaN       NaN         NaN          NaN        NaN   \n",
       "2018-03-11 20:00:00         NaN       NaN         NaN          NaN        NaN   \n",
       "\n",
       "                        Forecast  \n",
       "Date                              \n",
       "2004-08-19 00:00:00          NaN  \n",
       "2004-08-20 00:00:00          NaN  \n",
       "2004-08-23 00:00:00          NaN  \n",
       "2004-08-24 00:00:00          NaN  \n",
       "2004-08-25 00:00:00          NaN  \n",
       "...                          ...  \n",
       "2018-03-07 19:00:00  1114.278784  \n",
       "2018-03-08 19:00:00  1071.331850  \n",
       "2018-03-09 19:00:00  1044.009063  \n",
       "2018-03-10 19:00:00  1074.136081  \n",
       "2018-03-11 20:00:00  1022.736037  \n",
       "\n",
       "[3424 rows x 6 columns]"
      ]
     },
     "execution_count": 239,
     "metadata": {},
     "output_type": "execute_result"
    }
   ],
   "source": [
    "df_copy"
   ]
  },
  {
   "cell_type": "code",
   "execution_count": 241,
   "id": "05a8ffee-b9e5-4f93-b9ac-666845e24ef0",
   "metadata": {
    "tags": []
   },
   "outputs": [
    {
     "name": "stderr",
     "output_type": "stream",
     "text": [
      "No artists with labels found to put in legend.  Note that artists whose label start with an underscore are ignored when legend() is called with no argument.\n"
     ]
    },
    {
     "data": {
      "image/png": "[encoded data removed]",
      "text/plain": [
       "<Figure size 640x480 with 1 Axes>"
      ]
     },
     "metadata": {},
     "output_type": "display_data"
    },
    {
     "data": {
      "image/png": "[encoded data removed]",
      "text/plain": [
       "<Figure size 1500x1000 with 1 Axes>"
      ]
     },
     "metadata": {},
     "output_type": "display_data"
    }
   ],
   "source": [
    "df_copy['Adj. Close'].plot()\n",
    "df_copy['Forecast'].plot()\n",
    "plt.figure(figsize=(15, 10))\n",
    "plt.legend(loc=4)\n",
    "plt.xlabel('Date')\n",
    "plt.ylabel('Price')\n",
    "plt.show()"
   ]
  },
  {
   "cell_type": "code",
   "execution_count": null,
   "id": "efeb9dae-1a5c-4901-a21f-6f0fbe45777d",
   "metadata": {},
   "outputs": [],
   "source": []
  }
 ],
 "metadata": {
  "kernelspec": {
   "display_name": "Python 3 (ipykernel)",
   "language": "python",
   "name": "python3"
  },
  "language_info": {
   "codemirror_mode": {
    "name": "ipython",
    "version": 3
   },
   "file_extension": ".py",
   "mimetype": "text/x-python",
   "name": "python",
   "nbconvert_exporter": "python",
   "pygments_lexer": "ipython3",
   "version": "3.10.9"
  }
 },
 "nbformat": 4,
 "nbformat_minor": 5
}
